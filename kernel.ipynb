{
  "cells": [
    {
      "metadata": {
        "_uuid": "8f2839f25d086af736a60e9eeb907d3b93b6e0e5",
        "_cell_guid": "b1076dfc-b9ad-4769-8c92-a6c4dae69d19",
        "trusted": true
      },
      "cell_type": "code",
      "source": "import numpy as np # linear algebra\nimport pandas as pd # data processing, CSV file I/O (e.g. pd.read_csv)\nimport matplotlib.pyplot as plt, matplotlib.image as img\nfrom sklearn.model_selection import train_test_split\nfrom sklearn import svm",
      "execution_count": null,
      "outputs": []
    },
    {
      "metadata": {
        "_uuid": "8f2839f25d086af736a60e9eeb907d3b93b6e0e5",
        "_cell_guid": "b1076dfc-b9ad-4769-8c92-a6c4dae69d19",
        "trusted": true
      },
      "cell_type": "code",
      "source": "import os\nprint(os.listdir(\"../input\"))",
      "execution_count": null,
      "outputs": []
    },
    {
      "metadata": {
        "_cell_guid": "79c7e3d0-c299-4dcb-8224-4455121ee9b0",
        "_uuid": "d629ff2d2480ee46fbb7e2d37f6b5fab8052498a",
        "trusted": true
      },
      "cell_type": "code",
      "source": "loaded_images = pd.read_csv('../input/train.csv')",
      "execution_count": null,
      "outputs": []
    },
    {
      "metadata": {
        "trusted": true,
        "_uuid": "246ce4f5ff0f5d170648c537153bebf429e442e6"
      },
      "cell_type": "code",
      "source": "loaded_images.shape",
      "execution_count": null,
      "outputs": []
    },
    {
      "metadata": {
        "trusted": true,
        "_uuid": "84921d89963b6cf1bb30254ac5d228dfcf814516"
      },
      "cell_type": "code",
      "source": "loaded_images.columns",
      "execution_count": null,
      "outputs": []
    },
    {
      "metadata": {
        "trusted": true,
        "_uuid": "8b5de32387bfb5291b3023e126fc6535865dec16"
      },
      "cell_type": "code",
      "source": "chunk = loaded_images\nchunk.shape",
      "execution_count": null,
      "outputs": []
    },
    {
      "metadata": {
        "trusted": true,
        "scrolled": true,
        "_uuid": "1b2c023489e625e2d012e79f93145fbc97c14203"
      },
      "cell_type": "code",
      "source": "labels = chunk.iloc[:, :1]\ndata = chunk.iloc[:,1:]\nprint(labels.shape)\nprint(data.shape)",
      "execution_count": null,
      "outputs": []
    },
    {
      "metadata": {
        "trusted": true,
        "_uuid": "e2e121cce46590ea4a4172159d03a43e7148447a"
      },
      "cell_type": "code",
      "source": "train_images, test_images,train_labels, test_labels = train_test_split(data, labels, train_size=0.8, test_size=0.2, random_state=0)",
      "execution_count": null,
      "outputs": []
    },
    {
      "metadata": {
        "trusted": true,
        "_uuid": "e017d76bd06b5a2e1030a6d8c42b5503722ea68c"
      },
      "cell_type": "code",
      "source": "i=14\nimg = train_images.iloc[i].values\nimg = img.reshape((28, 28))\nplt.imshow(img,cmap='gray')\nplt.title(train_labels.iloc[i,0])",
      "execution_count": null,
      "outputs": []
    },
    {
      "metadata": {
        "trusted": true,
        "_uuid": "4b02803057567e70a667f3747949b8f44c404286"
      },
      "cell_type": "code",
      "source": "plt.hist(train_images.iloc[i])",
      "execution_count": null,
      "outputs": []
    },
    {
      "metadata": {
        "trusted": true,
        "_uuid": "a9604e835a447755ef8fff6cebc6e5d92e8a467d"
      },
      "cell_type": "code",
      "source": "train_labels.values.ravel()",
      "execution_count": null,
      "outputs": []
    },
    {
      "metadata": {
        "trusted": true,
        "_uuid": "bb95c99aec717cb2c5e83f1f3f21591cb2afcd71"
      },
      "cell_type": "code",
      "source": "clf = svm.SVC()\nclf.fit(train_images, train_labels.values.ravel())\nclf.score(test_images, test_labels)",
      "execution_count": null,
      "outputs": []
    },
    {
      "metadata": {
        "trusted": true,
        "_uuid": "6f55e6d506e47c2164acbdfc8a5d49c24d1d2b5d"
      },
      "cell_type": "code",
      "source": "pd.options.mode.chained_assignment = None\ntrain_images[train_images>0] = 1\ntest_images[test_images>0] = 1",
      "execution_count": null,
      "outputs": []
    },
    {
      "metadata": {
        "trusted": true,
        "_uuid": "06d577d9e5dec1e5e7b84c10d28447c9c9486569"
      },
      "cell_type": "code",
      "source": "clf = svm.SVC()\nclf.fit(train_images, train_labels.values.ravel())\nclf.score(test_images, test_labels)",
      "execution_count": null,
      "outputs": []
    },
    {
      "metadata": {
        "trusted": true,
        "_uuid": "bdb51ada8f9f3bda1c3eb2bd61f6cc0b39042609"
      },
      "cell_type": "code",
      "source": "test_data = pd.read_csv('../input/test.csv')",
      "execution_count": null,
      "outputs": []
    },
    {
      "metadata": {
        "trusted": true,
        "_uuid": "4ac0a7de141fea842ba2007d8a53f4bd74779bd7"
      },
      "cell_type": "code",
      "source": "test_data[test_data > 0] = 1\nresult = clf.predict(test_data)",
      "execution_count": null,
      "outputs": []
    },
    {
      "metadata": {
        "trusted": true,
        "_uuid": "76afb9676e3a7b8dececb01fc46cd11b3b469e85"
      },
      "cell_type": "code",
      "source": "df = pd.DataFrame(result)\ndf.index.name = \"ImageId\"\ndf.index+=1\ndf.columns = [\"Label\"]\ndf.to_csv(\"results.csv\", header=True)",
      "execution_count": null,
      "outputs": []
    },
    {
      "metadata": {
        "trusted": true,
        "_uuid": "39e2e2f96de889652f33d499b304c438f0c66d85"
      },
      "cell_type": "code",
      "source": "os.listdir('.')",
      "execution_count": null,
      "outputs": []
    },
    {
      "metadata": {
        "trusted": true,
        "_uuid": "8b063276bfec2428f4942c69c2dbc91171ba37a6"
      },
      "cell_type": "code",
      "source": "",
      "execution_count": null,
      "outputs": []
    }
  ],
  "metadata": {
    "kernelspec": {
      "display_name": "Python 3",
      "language": "python",
      "name": "python3"
    },
    "language_info": {
      "name": "python",
      "version": "3.6.6",
      "mimetype": "text/x-python",
      "codemirror_mode": {
        "name": "ipython",
        "version": 3
      },
      "pygments_lexer": "ipython3",
      "nbconvert_exporter": "python",
      "file_extension": ".py"
    }
  },
  "nbformat": 4,
  "nbformat_minor": 1
}